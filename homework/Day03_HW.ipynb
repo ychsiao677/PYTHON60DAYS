{
 "cells": [
  {
   "cell_type": "code",
   "execution_count": 1,
   "metadata": {},
   "outputs": [],
   "source": [
    "import numpy as np"
   ]
  },
  {
   "cell_type": "markdown",
   "metadata": {},
   "source": [
    "正常的人耳能夠聽到最微弱的聲音叫作「聽覺閾」為 20 個微巴斯卡 (縮寫為 μPa) ，以聲壓 20μPa 定義為 0 分貝，表示 V0 為 20μPa，其餘聲壓為 V1(微巴斯卡)，例如將 V1 帶入 200μPa，V0 為 20μPa，可以得到 20GdB。\n",
    "GdB=20log10(V1/V0)"
   ]
  },
  {
   "cell_type": "code",
   "execution_count": 2,
   "metadata": {},
   "outputs": [
    {
     "data": {
      "text/plain": [
       "60.0"
      ]
     },
     "execution_count": 2,
     "metadata": {},
     "output_type": "execute_result"
    }
   ],
   "source": [
    "#1. 正常的談話的聲壓為 20000 微巴斯卡，請問多少分貝?\n",
    "np.log10(20000/20)*20"
   ]
  },
  {
   "cell_type": "code",
   "execution_count": 3,
   "metadata": {},
   "outputs": [
    {
     "data": {
      "text/plain": [
       "0.09999999999999999"
      ]
     },
     "execution_count": 3,
     "metadata": {},
     "output_type": "execute_result"
    }
   ],
   "source": [
    "#2. 30 分貝的聲壓會是 50 分貝的幾倍?\n",
    "V30=np.power(10,30/20)*20\n",
    "V50=np.power(10,50/20)*20\n",
    "np.divide(V30,V50)"
   ]
  }
 ],
 "metadata": {
  "kernelspec": {
   "display_name": "Python 3",
   "language": "python",
   "name": "python3"
  },
  "language_info": {
   "codemirror_mode": {
    "name": "ipython",
    "version": 3
   },
   "file_extension": ".py",
   "mimetype": "text/x-python",
   "name": "python",
   "nbconvert_exporter": "python",
   "pygments_lexer": "ipython3",
   "version": "3.8.5"
  }
 },
 "nbformat": 4,
 "nbformat_minor": 4
}
